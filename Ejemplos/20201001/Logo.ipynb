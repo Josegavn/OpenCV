{
 "metadata": {
  "language_info": {
   "codemirror_mode": {
    "name": "ipython",
    "version": 3
   },
   "file_extension": ".py",
   "mimetype": "text/x-python",
   "name": "python",
   "nbconvert_exporter": "python",
   "pygments_lexer": "ipython3",
   "version": "3.8.5-final"
  },
  "orig_nbformat": 2,
  "kernelspec": {
   "name": "Python 3.8.5 32-bit",
   "display_name": "Python 3.8.5 32-bit",
   "metadata": {
    "interpreter": {
     "hash": "09b272bb7436720c891b51f58614fc96880baf33a13dca2d6d9169a3b5b36ccf"
    }
   }
  }
 },
 "nbformat": 4,
 "nbformat_minor": 2,
 "cells": [
  {
   "cell_type": "code",
   "execution_count": 1,
   "metadata": {},
   "outputs": [],
   "source": [
    "import matplotlib.pyplot as plt\n",
    "import numpy as np\n",
    "import cv2"
   ]
  },
  {
   "cell_type": "code",
   "execution_count": 2,
   "metadata": {},
   "outputs": [],
   "source": [
    "color = [0,0,0]"
   ]
  },
  {
   "cell_type": "code",
   "execution_count": 3,
   "metadata": {},
   "outputs": [],
   "source": [
    "imagen = cv2.imread('archivo')"
   ]
  },
  {
   "cell_type": "code",
   "execution_count": 4,
   "metadata": {},
   "outputs": [],
   "source": [
    "replicate = cv2.copyMakeBorder(imagen, 10,10,10,10, cv2.BORDER_REPLICATE)\n",
    "reflect = cv2.copyMakeBorder(imagen, 10,10,10,10, cv2.BORDER_REFLECT)\n",
    "reflect101 = cv2.copyMakeBorder(imagen, 10,10,10,10, cv2.BORDER_REFLECT101)\n",
    "wrap = cv2.copyMakeBorder(imagen, 10,10,10,10, cv2.BORDER_WRAP)\n",
    "constant = cv2.copyMakeBorder(imagen, 10,10,10,10, cv2.BORDER_CONSTANT, value=color)\n",
    "#plano\n",
    "plt.subplot(231), plt.imshow(imagen, 'gray'), plt.title('Original')\n",
    "plt.subplot(232), plt.imshow(replicate, 'gray'), plt.title('Replicate')\n",
    "plt.subplot(233), plt.imshow(reflect, 'gray'), plt.title('Reflect')\n",
    "plt.subplot(234), plt.imshow(reflect101, 'gray'), plt.title('Reflect101')\n",
    "plt.subplot(235), plt.imshow(wrap, 'gray'), plt.title('warp')\n",
    "plt.subplot(236), plt.imshow(constant, 'gray'), plt.title('constant')"
   ]
  }
 ]
}