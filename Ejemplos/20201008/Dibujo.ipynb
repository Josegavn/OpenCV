{
 "metadata": {
  "language_info": {
   "codemirror_mode": {
    "name": "ipython",
    "version": 3
   },
   "file_extension": ".py",
   "mimetype": "text/x-python",
   "name": "python",
   "nbconvert_exporter": "python",
   "pygments_lexer": "ipython3",
   "version": "3.8.5-final"
  },
  "orig_nbformat": 2,
  "kernelspec": {
   "name": "Python 3.8.5 32-bit",
   "display_name": "Python 3.8.5 32-bit",
   "metadata": {
    "interpreter": {
     "hash": "09b272bb7436720c891b51f58614fc96880baf33a13dca2d6d9169a3b5b36ccf"
    }
   }
  }
 },
 "nbformat": 4,
 "nbformat_minor": 2,
 "cells": [
  {
   "cell_type": "code",
   "execution_count": 12,
   "metadata": {},
   "outputs": [],
   "source": [
    "import cv2"
   ]
  },
  {
   "cell_type": "code",
   "execution_count": 13,
   "metadata": {},
   "outputs": [],
   "source": [
    "captura = cv2.VideoCapture(0)"
   ]
  },
  {
   "cell_type": "code",
   "execution_count": 1,
   "metadata": {},
   "outputs": [
    {
     "output_type": "error",
     "ename": "SyntaxError",
     "evalue": "invalid syntax (<ipython-input-1-e4f724b8e48b>, line 15)",
     "traceback": [
      "\u001b[1;36m  File \u001b[1;32m\"<ipython-input-1-e4f724b8e48b>\"\u001b[1;36m, line \u001b[1;32m15\u001b[0m\n\u001b[1;33m    cv2.rectangle(video, (x,y), (x+w, y+h) color=(255,0,0), thickness=4)\u001b[0m\n\u001b[1;37m                                           ^\u001b[0m\n\u001b[1;31mSyntaxError\u001b[0m\u001b[1;31m:\u001b[0m invalid syntax\n"
     ]
    }
   ],
   "source": [
    "ancho = int(captura.get(cv2.CAP_PROP_FRAME_WIDTH))\n",
    "alto = int(captura.get(cv2.CAP_PROP_FRAME_HEIGHT))\n",
    "\n",
    "x = 0\n",
    "y = 0\n",
    "\n",
    "w = ancho // 3 \n",
    "h = alto // 4\n",
    "\n",
    "codigo = cv2.VideoWriter_fourcc(*'MJPG')\n",
    "grabador = cv2.VideoWriter('MiPrimeraClase.avi', codigo, 16 (ancho, alto))\n",
    "while True:\n",
    "    resultado, video = captura.read()\n",
    "\n",
    "    cv2.rectangle(video, (x,y), (x+w, y+h) color=(255,0,0), thickness=4)\n",
    "    \n",
    "    cv2.imshow('El video', video)\n",
    "    grabador.write(video)\n",
    "\n",
    "    #0xFF evento de captura\n",
    "    if cv2.waitKey(1) & 0xFF == ord('q'):\n",
    "        break\n",
    "\n",
    "captura.release()\n",
    "grabador.release()\n",
    "cv2.destroyAllWindows()"
   ]
  },
  {
   "cell_type": "code",
   "execution_count": null,
   "metadata": {},
   "outputs": [],
   "source": []
  }
 ]
}